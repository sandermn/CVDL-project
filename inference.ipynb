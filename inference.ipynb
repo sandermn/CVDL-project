{
 "cells": [
  {
   "cell_type": "code",
   "execution_count": 8,
   "id": "alone-girlfriend",
   "metadata": {},
   "outputs": [],
   "source": [
    "import numpy as np\n",
    "import pandas as pd\n",
    "import matplotlib as mp\n",
    "import matplotlib.pyplot as plt\n",
    "import time\n",
    "\n",
    "from pathlib import Path\n",
    "import torch\n",
    "from torch.utils.data import Dataset, DataLoader, sampler\n",
    "from torch import nn\n",
    "from train import acc_metric, dice_metric\n",
    "from DatasetLoader import DatasetLoader\n",
    "from Unet2D import Unet2D"
   ]
  },
  {
   "cell_type": "code",
   "execution_count": 24,
   "id": "traditional-clinton",
   "metadata": {},
   "outputs": [],
   "source": [
    "def test(model, test_dl, acc_fn, dice_fn):\n",
    "    model.cuda()\n",
    "    model.eval()\n",
    "    running_acc = 0\n",
    "    running_dice = 0\n",
    "    for x, y in test_dl:\n",
    "        x = x.cuda()\n",
    "        y = y.cuda()\n",
    "        with torch.no_grad():\n",
    "            outputs = model(x)\n",
    "            acc = acc_fn(outputs, y)\n",
    "            dice = dice_fn(outputs, y)\n",
    "        running_acc += acc\n",
    "        running_dice += dice\n",
    "    \n",
    "    return running_acc/len(test_dl), running_dice/len(test_dl)"
   ]
  },
  {
   "cell_type": "code",
   "execution_count": 25,
   "id": "ceramic-decrease",
   "metadata": {},
   "outputs": [],
   "source": [
    "def main(params_path):\n",
    "    bs=1\n",
    "    \n",
    "    # load the test data\n",
    "    base_path = Path('/work/datasets/medical_project/CAMUS_resized')\n",
    "    data = DatasetMedical(base_path / 'train_gray',\n",
    "                         base_path / 'train_gt')\n",
    "    print(len(data))\n",
    "\n",
    "    # split the training dataset and initialize the data loaders\n",
    "    _, _, test_dataset = torch.utils.data.random_split(\n",
    "        data,\n",
    "        (300, 100, 50),\n",
    "        generator=torch.Generator().manual_seed(42)\n",
    "    )\n",
    "\n",
    "    # split the training dataset and initialize the data loaders\n",
    "    test_data = DataLoader(test_dataset, batch_size=bs, shuffle=False)\n",
    "    print(len(test_data))\n",
    "    xb, yb = next(iter(test_data))\n",
    "    print(xb.shape, yb.shape)\n",
    "\n",
    "    # build the Unet2D with one channel as input and 2 channels as output\n",
    "    unet = Unet2D(1, 2)\n",
    "    # Load best model params\n",
    "    unet.load_state_dict(torch.load(params_path))\n",
    "    # loss function and optimizer\n",
    "    # loss_fn = nn.CrossEntropyLoss()\n",
    "    # opt = torch.optim.Adam(unet.parameters())\n",
    "\n",
    "    # do some training\n",
    "    acc, dice = test(unet, test_data, acc_metric, dice_metric)\n",
    "    print('acc: ', acc,'dice: ', dice)"
   ]
  },
  {
   "cell_type": "code",
   "execution_count": 22,
   "id": "pressed-range",
   "metadata": {},
   "outputs": [
    {
     "name": "stdout",
     "output_type": "stream",
     "text": [
      "450\n",
      "50\n",
      "torch.Size([1, 1, 384, 384]) torch.Size([1, 384, 384])\n",
      "acc:  tensor(0.9822, device='cuda:0') dice:  tensor(0.8568, device='cuda:0')\n"
     ]
    }
   ],
   "source": [
    "params_path = \"models/model_epoch_41.pth\"\n",
    "main(params_path)"
   ]
  }
 ],
 "metadata": {
  "kernelspec": {
   "display_name": "Python 3",
   "language": "python",
   "name": "python3"
  },
  "language_info": {
   "codemirror_mode": {
    "name": "ipython",
    "version": 3
   },
   "file_extension": ".py",
   "mimetype": "text/x-python",
   "name": "python",
   "nbconvert_exporter": "python",
   "pygments_lexer": "ipython3",
   "version": "3.8.5"
  }
 },
 "nbformat": 4,
 "nbformat_minor": 5
}